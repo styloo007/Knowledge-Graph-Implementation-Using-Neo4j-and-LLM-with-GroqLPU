{
  "nbformat": 4,
  "nbformat_minor": 0,
  "metadata": {
    "colab": {
      "provenance": [],
      "gpuType": "T4"
    },
    "kernelspec": {
      "name": "python3",
      "display_name": "Python 3"
    },
    "language_info": {
      "name": "python"
    },
    "accelerator": "GPU"
  },
  "cells": [
    {
      "cell_type": "code",
      "execution_count": null,
      "metadata": {
        "id": "WYhB2OARw_Nq"
      },
      "outputs": [],
      "source": [
        "!pip install --upgrade --quiet  langchain langchain-community langchain-groq neo4j"
      ]
    },
    {
      "cell_type": "code",
      "source": [
        "!pip install --upgrade --quiet langchain_experimental"
      ],
      "metadata": {
        "id": "Pg3oqETMgbwc"
      },
      "execution_count": null,
      "outputs": []
    },
    {
      "cell_type": "code",
      "source": [
        "## Graphdb configuration\n",
        "NEO4J_URI=\"neo4j+s://112d9e57.databases.neo4j.io\"\n",
        "NEO4J_USERNAME=\"neo4j\"\n",
        "NEO4J_PASSWORD=\"DZizXK4e4syOvOFhcrZfA_JWDvmAhs-lQYjD0GedpxA\"\n"
      ],
      "metadata": {
        "id": "OBL8Iqs4xoeh"
      },
      "execution_count": null,
      "outputs": []
    },
    {
      "cell_type": "code",
      "source": [
        "import os\n",
        "os.environ[\"NEO4J_URI\"]=NEO4J_URI\n",
        "os.environ[\"NEO4J_USERNAME\"]=NEO4J_USERNAME\n",
        "os.environ[\"NEO4J_PASSWORD\"]=NEO4J_PASSWORD"
      ],
      "metadata": {
        "id": "uDS6XHgbycee"
      },
      "execution_count": null,
      "outputs": []
    },
    {
      "cell_type": "code",
      "source": [
        "from langchain_community.graphs import Neo4jGraph\n",
        "graph=Neo4jGraph(\n",
        "    url=NEO4J_URI,\n",
        "    username=NEO4J_USERNAME,\n",
        "    password=NEO4J_PASSWORD,\n",
        ")"
      ],
      "metadata": {
        "id": "5rikUUiCymWG"
      },
      "execution_count": null,
      "outputs": []
    },
    {
      "cell_type": "code",
      "source": [
        "print(graph)"
      ],
      "metadata": {
        "colab": {
          "base_uri": "https://localhost:8080/"
        },
        "id": "j6Zy5Bc_y1oN",
        "outputId": "c5db6419-3607-4ab4-9710-bc28a20c9ac9"
      },
      "execution_count": null,
      "outputs": [
        {
          "output_type": "execute_result",
          "data": {
            "text/plain": [
              "<langchain_community.graphs.neo4j_graph.Neo4jGraph at 0x79b84cf52710>"
            ]
          },
          "metadata": {},
          "execution_count": 5
        }
      ]
    },
    {
      "cell_type": "code",
      "source": [
        "groq_api_key=\"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\""
      ],
      "metadata": {
        "id": "55sZpcz8y2dx"
      },
      "execution_count": null,
      "outputs": []
    },
    {
      "cell_type": "code",
      "source": [
        "from langchain_groq import ChatGroq\n",
        "\n",
        "llm=ChatGroq(groq_api_key=groq_api_key,model_name=\"Gemma2-9b-It\")\n",
        "llm"
      ],
      "metadata": {
        "colab": {
          "base_uri": "https://localhost:8080/"
        },
        "id": "YtqR-fXVzxXZ",
        "outputId": "596fd471-a002-4ec8-b06f-0cebdb2bbcd8"
      },
      "execution_count": null,
      "outputs": [
        {
          "output_type": "execute_result",
          "data": {
            "text/plain": [
              "ChatGroq(client=<groq.resources.chat.completions.Completions object at 0x79b81751f910>, async_client=<groq.resources.chat.completions.AsyncCompletions object at 0x79b81757c640>, model_name='Gemma2-9b-It', groq_api_key=SecretStr('**********'))"
            ]
          },
          "metadata": {},
          "execution_count": 7
        }
      ]
    },
    {
      "cell_type": "code",
      "source": [
        "from langchain_core.documents import Document\n",
        "text=\"\"\"\n",
        "Elon Reeve Musk (born June 28, 1971) is a businessman and investor known for his key roles in space\n",
        "company SpaceX and automotive company Tesla, Inc. Other involvements include ownership of X Corp.,\n",
        "formerly Twitter, and his role in the founding of The Boring Company, xAI, Neuralink and OpenAI.\n",
        "He is one of the wealthiest people in the world; as of July 2024, Forbes estimates his net worth to be\n",
        "US$221 billion.Musk was born in Pretoria to Maye and engineer Errol Musk, and briefly attended\n",
        "the University of Pretoria before immigrating to Canada at age 18, acquiring citizenship through\n",
        "his Canadian-born mother. Two years later, he matriculated at Queen's University at Kingston in Canada.\n",
        "Musk later transferred to the University of Pennsylvania and received bachelor's degrees in economics\n",
        " and physics. He moved to California in 1995 to attend Stanford University, but dropped out after\n",
        "  two days and, with his brother Kimbal, co-founded online city guide software company Zip2.\n",
        " \"\"\"\n",
        "documents=[Document(page_content=text)]\n",
        "print(documents)"
      ],
      "metadata": {
        "colab": {
          "base_uri": "https://localhost:8080/"
        },
        "id": "tMw2lopJ0XnX",
        "outputId": "d41badea-7e23-4ce5-ea3d-c770a41dddc3"
      },
      "execution_count": null,
      "outputs": [
        {
          "output_type": "execute_result",
          "data": {
            "text/plain": [
              "[Document(page_content=\"\\nElon Reeve Musk (born June 28, 1971) is a businessman and investor known for his key roles in space\\ncompany SpaceX and automotive company Tesla, Inc. Other involvements include ownership of X Corp.,\\nformerly Twitter, and his role in the founding of The Boring Company, xAI, Neuralink and OpenAI.\\nHe is one of the wealthiest people in the world; as of July 2024, Forbes estimates his net worth to be\\nUS$221 billion.Musk was born in Pretoria to Maye and engineer Errol Musk, and briefly attended\\nthe University of Pretoria before immigrating to Canada at age 18, acquiring citizenship through\\nhis Canadian-born mother. Two years later, he matriculated at Queen's University at Kingston in Canada.\\nMusk later transferred to the University of Pennsylvania and received bachelor's degrees in economics\\n and physics. He moved to California in 1995 to attend Stanford University, but dropped out after\\n  two days and, with his brother Kimbal, co-founded online city guide software company Zip2.\\n \")]"
            ]
          },
          "metadata": {},
          "execution_count": 8
        }
      ]
    },
    {
      "cell_type": "code",
      "source": [
        "from langchain_experimental.graph_transformers import LLMGraphTransformer\n",
        "llm_transformer=LLMGraphTransformer(llm=llm)"
      ],
      "metadata": {
        "id": "8ripzwTX0q1X"
      },
      "execution_count": null,
      "outputs": []
    },
    {
      "cell_type": "code",
      "source": [
        "graph_documents=llm_transformer.convert_to_graph_documents(documents)"
      ],
      "metadata": {
        "id": "QedL67iH1ujK"
      },
      "execution_count": null,
      "outputs": []
    },
    {
      "cell_type": "code",
      "source": [
        "graph_documents"
      ],
      "metadata": {
        "colab": {
          "base_uri": "https://localhost:8080/"
        },
        "id": "uAdF2BZm13w4",
        "outputId": "110365c9-4c1a-4a46-b72c-27f47cdc615e"
      },
      "execution_count": null,
      "outputs": [
        {
          "output_type": "execute_result",
          "data": {
            "text/plain": [
              "[GraphDocument(nodes=[Node(id='Elon Reeve Musk', type='Person'), Node(id='Spacex', type='Company'), Node(id='Tesla, Inc.', type='Company'), Node(id='X Corp.', type='Company'), Node(id='Twitter', type='Company'), Node(id='The Boring Company', type='Company'), Node(id='Xai', type='Company'), Node(id='Neuralink', type='Company'), Node(id='Openai', type='Company'), Node(id='Forbes', type='Organization'), Node(id='Pretoria', type='City'), Node(id='University Of Pretoria', type='University'), Node(id='Canada', type='Country'), Node(id=\"Queen'S University\", type='University'), Node(id='University Of Pennsylvania', type='University'), Node(id='California', type='State'), Node(id='Stanford University', type='University'), Node(id='Zip2', type='Company')], relationships=[Relationship(source=Node(id='Elon Reeve Musk', type='Person'), target=Node(id='Spacex', type='Company'), type='FOUNDER'), Relationship(source=Node(id='Elon Reeve Musk', type='Person'), target=Node(id='Tesla, Inc.', type='Company'), type='FOUNDER'), Relationship(source=Node(id='Elon Reeve Musk', type='Person'), target=Node(id='X Corp.', type='Company'), type='OWNER'), Relationship(source=Node(id='X Corp.', type='Company'), target=Node(id='Twitter', type='Company'), type='PREDECESSOR'), Relationship(source=Node(id='Elon Reeve Musk', type='Person'), target=Node(id='The Boring Company', type='Company'), type='FOUNDER'), Relationship(source=Node(id='Elon Reeve Musk', type='Person'), target=Node(id='Xai', type='Company'), type='FOUNDER'), Relationship(source=Node(id='Elon Reeve Musk', type='Person'), target=Node(id='Neuralink', type='Company'), type='FOUNDER'), Relationship(source=Node(id='Elon Reeve Musk', type='Person'), target=Node(id='Openai', type='Company'), type='FOUNDER'), Relationship(source=Node(id='Forbes', type='Organization'), target=Node(id='Elon Reeve Musk', type='Person'), type='ESTIMATES_NET_WORTH'), Relationship(source=Node(id='Elon Reeve Musk', type='Person'), target=Node(id='Pretoria', type='City'), type='BORN'), Relationship(source=Node(id='Elon Reeve Musk', type='Person'), target=Node(id='University Of Pretoria', type='University'), type='ATTENDED'), Relationship(source=Node(id='Elon Reeve Musk', type='Person'), target=Node(id='Canada', type='Country'), type='IMMIGRATED'), Relationship(source=Node(id='Elon Reeve Musk', type='Person'), target=Node(id=\"Queen'S University\", type='University'), type='STUDIED'), Relationship(source=Node(id='Elon Reeve Musk', type='Person'), target=Node(id='University Of Pennsylvania', type='University'), type='STUDIED'), Relationship(source=Node(id='Elon Reeve Musk', type='Person'), target=Node(id='California', type='State'), type='MOVED'), Relationship(source=Node(id='Elon Reeve Musk', type='Person'), target=Node(id='Stanford University', type='University'), type='ENROLLED'), Relationship(source=Node(id='Elon Reeve Musk', type='Person'), target=Node(id='Kimbal', type='Person'), type='CO-FOUNDED_COMPANY'), Relationship(source=Node(id='Elon Reeve Musk', type='Person'), target=Node(id='Zip2', type='Company'), type='CO-FOUNDED')], source=Document(page_content=\"\\nElon Reeve Musk (born June 28, 1971) is a businessman and investor known for his key roles in space\\ncompany SpaceX and automotive company Tesla, Inc. Other involvements include ownership of X Corp.,\\nformerly Twitter, and his role in the founding of The Boring Company, xAI, Neuralink and OpenAI.\\nHe is one of the wealthiest people in the world; as of July 2024, Forbes estimates his net worth to be\\nUS$221 billion.Musk was born in Pretoria to Maye and engineer Errol Musk, and briefly attended\\nthe University of Pretoria before immigrating to Canada at age 18, acquiring citizenship through\\nhis Canadian-born mother. Two years later, he matriculated at Queen's University at Kingston in Canada.\\nMusk later transferred to the University of Pennsylvania and received bachelor's degrees in economics\\n and physics. He moved to California in 1995 to attend Stanford University, but dropped out after\\n  two days and, with his brother Kimbal, co-founded online city guide software company Zip2.\\n \"))]"
            ]
          },
          "metadata": {},
          "execution_count": 12
        }
      ]
    },
    {
      "cell_type": "code",
      "source": [
        "graph_documents[0].nodes"
      ],
      "metadata": {
        "colab": {
          "base_uri": "https://localhost:8080/"
        },
        "id": "h3pSzKLE2OJj",
        "outputId": "751455b4-f550-482a-90f1-a2654610dcc9"
      },
      "execution_count": null,
      "outputs": [
        {
          "output_type": "execute_result",
          "data": {
            "text/plain": [
              "[Node(id='Elon Reeve Musk', type='Person'),\n",
              " Node(id='Spacex', type='Company'),\n",
              " Node(id='Tesla, Inc.', type='Company'),\n",
              " Node(id='X Corp.', type='Company'),\n",
              " Node(id='Twitter', type='Company'),\n",
              " Node(id='The Boring Company', type='Company'),\n",
              " Node(id='Xai', type='Company'),\n",
              " Node(id='Neuralink', type='Company'),\n",
              " Node(id='Openai', type='Company'),\n",
              " Node(id='Forbes', type='Organization'),\n",
              " Node(id='Pretoria', type='City'),\n",
              " Node(id='University Of Pretoria', type='University'),\n",
              " Node(id='Canada', type='Country'),\n",
              " Node(id=\"Queen'S University\", type='University'),\n",
              " Node(id='University Of Pennsylvania', type='University'),\n",
              " Node(id='California', type='State'),\n",
              " Node(id='Stanford University', type='University'),\n",
              " Node(id='Zip2', type='Company')]"
            ]
          },
          "metadata": {},
          "execution_count": 13
        }
      ]
    },
    {
      "cell_type": "code",
      "source": [
        "graph_documents[0].relationships"
      ],
      "metadata": {
        "colab": {
          "base_uri": "https://localhost:8080/"
        },
        "id": "DvvdoA5W2fEZ",
        "outputId": "7e6864d6-0260-4e52-b12c-695404a01151"
      },
      "execution_count": null,
      "outputs": [
        {
          "output_type": "execute_result",
          "data": {
            "text/plain": [
              "[Relationship(source=Node(id='Elon Reeve Musk', type='Person'), target=Node(id='Spacex', type='Company'), type='FOUNDER'),\n",
              " Relationship(source=Node(id='Elon Reeve Musk', type='Person'), target=Node(id='Tesla, Inc.', type='Company'), type='FOUNDER'),\n",
              " Relationship(source=Node(id='Elon Reeve Musk', type='Person'), target=Node(id='X Corp.', type='Company'), type='OWNER'),\n",
              " Relationship(source=Node(id='X Corp.', type='Company'), target=Node(id='Twitter', type='Company'), type='PREDECESSOR'),\n",
              " Relationship(source=Node(id='Elon Reeve Musk', type='Person'), target=Node(id='The Boring Company', type='Company'), type='FOUNDER'),\n",
              " Relationship(source=Node(id='Elon Reeve Musk', type='Person'), target=Node(id='Xai', type='Company'), type='FOUNDER'),\n",
              " Relationship(source=Node(id='Elon Reeve Musk', type='Person'), target=Node(id='Neuralink', type='Company'), type='FOUNDER'),\n",
              " Relationship(source=Node(id='Elon Reeve Musk', type='Person'), target=Node(id='Openai', type='Company'), type='FOUNDER'),\n",
              " Relationship(source=Node(id='Forbes', type='Organization'), target=Node(id='Elon Reeve Musk', type='Person'), type='ESTIMATES_NET_WORTH'),\n",
              " Relationship(source=Node(id='Elon Reeve Musk', type='Person'), target=Node(id='Pretoria', type='City'), type='BORN'),\n",
              " Relationship(source=Node(id='Elon Reeve Musk', type='Person'), target=Node(id='University Of Pretoria', type='University'), type='ATTENDED'),\n",
              " Relationship(source=Node(id='Elon Reeve Musk', type='Person'), target=Node(id='Canada', type='Country'), type='IMMIGRATED'),\n",
              " Relationship(source=Node(id='Elon Reeve Musk', type='Person'), target=Node(id=\"Queen'S University\", type='University'), type='STUDIED'),\n",
              " Relationship(source=Node(id='Elon Reeve Musk', type='Person'), target=Node(id='University Of Pennsylvania', type='University'), type='STUDIED'),\n",
              " Relationship(source=Node(id='Elon Reeve Musk', type='Person'), target=Node(id='California', type='State'), type='MOVED'),\n",
              " Relationship(source=Node(id='Elon Reeve Musk', type='Person'), target=Node(id='Stanford University', type='University'), type='ENROLLED'),\n",
              " Relationship(source=Node(id='Elon Reeve Musk', type='Person'), target=Node(id='Kimbal', type='Person'), type='CO-FOUNDED_COMPANY'),\n",
              " Relationship(source=Node(id='Elon Reeve Musk', type='Person'), target=Node(id='Zip2', type='Company'), type='CO-FOUNDED')]"
            ]
          },
          "metadata": {},
          "execution_count": 14
        }
      ]
    },
    {
      "cell_type": "code",
      "source": [
        "### Load the dataset of movie\n",
        "\n",
        "movie_query=\"\"\"\n",
        "LOAD CSV WITH HEADERS FROM\n",
        "'https://raw.githubusercontent.com/tomasonjo/blog-datasets/main/movies/movies_small.csv' as row\n",
        "\n",
        "MERGE(m:Movie{id:row.movieId})\n",
        "SET m.released = date(row.released),\n",
        "    m.title = row.title,\n",
        "    m.imdbRating = toFloat(row.imdbRating)\n",
        "FOREACH (director in split(row.director, '|') |\n",
        "    MERGE (p:Person {name:trim(director)})\n",
        "    MERGE (p)-[:DIRECTED]->(m))\n",
        "FOREACH (actor in split(row.actors, '|') |\n",
        "    MERGE (p:Person {name:trim(actor)})\n",
        "    MERGE (p)-[:ACTED_IN]->(m))\n",
        "FOREACH (genre in split(row.genres, '|') |\n",
        "    MERGE (g:Genre {name:trim(genre)})\n",
        "    MERGE (m)-[:IN_GENRE]->(g))\n",
        "\"\"\""
      ],
      "metadata": {
        "id": "EPOewFsm5DZv"
      },
      "execution_count": null,
      "outputs": []
    },
    {
      "cell_type": "code",
      "source": [
        "print(graph)"
      ],
      "metadata": {
        "colab": {
          "base_uri": "https://localhost:8080/"
        },
        "id": "UeRdr8nm7rAw",
        "outputId": "ea3d0c77-3310-43bc-87d6-e36f39ad1fc7"
      },
      "execution_count": null,
      "outputs": [
        {
          "output_type": "execute_result",
          "data": {
            "text/plain": [
              "<langchain_community.graphs.neo4j_graph.Neo4jGraph at 0x79b84cf52710>"
            ]
          },
          "metadata": {},
          "execution_count": 16
        }
      ]
    },
    {
      "cell_type": "code",
      "source": [
        "print(graph.query(movie_query))"
      ],
      "metadata": {
        "colab": {
          "base_uri": "https://localhost:8080/"
        },
        "id": "6YeLz1st7rp2",
        "outputId": "575b3bb5-52d0-4886-cd09-00513066df89"
      },
      "execution_count": null,
      "outputs": [
        {
          "output_type": "execute_result",
          "data": {
            "text/plain": [
              "[]"
            ]
          },
          "metadata": {},
          "execution_count": 17
        }
      ]
    },
    {
      "cell_type": "code",
      "source": [
        "graph.refresh_schema()\n",
        "print(graph.schema)"
      ],
      "metadata": {
        "colab": {
          "base_uri": "https://localhost:8080/"
        },
        "id": "nQm5agJA7xnH",
        "outputId": "49277a54-f12d-45e8-954d-9e537372df8c"
      },
      "execution_count": null,
      "outputs": [
        {
          "output_type": "stream",
          "name": "stdout",
          "text": [
            "Node properties:\n",
            "Movie {id: STRING, released: DATE, title: STRING, imdbRating: FLOAT}\n",
            "Person {name: STRING}\n",
            "Genre {name: STRING}\n",
            "Relationship properties:\n",
            "\n",
            "The relationships:\n",
            "(:Movie)-[:IN_GENRE]->(:Genre)\n",
            "(:Person)-[:DIRECTED]->(:Movie)\n",
            "(:Person)-[:ACTED_IN]->(:Movie)\n"
          ]
        }
      ]
    },
    {
      "cell_type": "code",
      "source": [
        "from langchain.chains import GraphCypherQAChain\n",
        "chain=GraphCypherQAChain.from_llm(llm=llm,graph=graph,verbose=True)\n",
        "chain"
      ],
      "metadata": {
        "colab": {
          "base_uri": "https://localhost:8080/"
        },
        "id": "tGUot6uZ8wnj",
        "outputId": "f7c50903-ad4b-4cd0-dfbf-1232fab8898e"
      },
      "execution_count": null,
      "outputs": [
        {
          "output_type": "execute_result",
          "data": {
            "text/plain": [
              "GraphCypherQAChain(verbose=True, graph=<langchain_community.graphs.neo4j_graph.Neo4jGraph object at 0x79b84cf52710>, cypher_generation_chain=LLMChain(prompt=PromptTemplate(input_variables=['question', 'schema'], template='Task:Generate Cypher statement to query a graph database.\\nInstructions:\\nUse only the provided relationship types and properties in the schema.\\nDo not use any other relationship types or properties that are not provided.\\nSchema:\\n{schema}\\nNote: Do not include any explanations or apologies in your responses.\\nDo not respond to any questions that might ask anything else than for you to construct a Cypher statement.\\nDo not include any text except the generated Cypher statement.\\n\\nThe question is:\\n{question}'), llm=ChatGroq(client=<groq.resources.chat.completions.Completions object at 0x79b81751f910>, async_client=<groq.resources.chat.completions.AsyncCompletions object at 0x79b81757c640>, model_name='Gemma2-9b-It', groq_api_key=SecretStr('**********'))), qa_chain=LLMChain(prompt=PromptTemplate(input_variables=['context', 'question'], template=\"You are an assistant that helps to form nice and human understandable answers.\\nThe information part contains the provided information that you must use to construct an answer.\\nThe provided information is authoritative, you must never doubt it or try to use your internal knowledge to correct it.\\nMake the answer sound as a response to the question. Do not mention that you based the result on the given information.\\nHere is an example:\\n\\nQuestion: Which managers own Neo4j stocks?\\nContext:[manager:CTL LLC, manager:JANE STREET GROUP LLC]\\nHelpful Answer: CTL LLC, JANE STREET GROUP LLC owns Neo4j stocks.\\n\\nFollow this example when generating answers.\\nIf the provided information is empty, say that you don't know the answer.\\nInformation:\\n{context}\\n\\nQuestion: {question}\\nHelpful Answer:\"), llm=ChatGroq(client=<groq.resources.chat.completions.Completions object at 0x79b81751f910>, async_client=<groq.resources.chat.completions.AsyncCompletions object at 0x79b81757c640>, model_name='Gemma2-9b-It', groq_api_key=SecretStr('**********'))), graph_schema='Node properties are the following:\\nMovie {id: STRING, released: DATE, title: STRING, imdbRating: FLOAT},Person {name: STRING},Genre {name: STRING}\\nRelationship properties are the following:\\n\\nThe relationships are the following:\\n(:Movie)-[:IN_GENRE]->(:Genre),(:Person)-[:DIRECTED]->(:Movie),(:Person)-[:ACTED_IN]->(:Movie)')"
            ]
          },
          "metadata": {},
          "execution_count": 19
        }
      ]
    },
    {
      "cell_type": "code",
      "source": [
        "response=chain.invoke({\"query\":\"List all the actors who acted in the movie Sudden Death\"})\n",
        "print(response)"
      ],
      "metadata": {
        "colab": {
          "base_uri": "https://localhost:8080/"
        },
        "id": "53tukPgo9Ab9",
        "outputId": "17a0767c-2c31-4b6f-a2cd-2e6996bcbc2d"
      },
      "execution_count": null,
      "outputs": [
        {
          "output_type": "stream",
          "name": "stdout",
          "text": [
            "\n",
            "\n",
            "\u001b[1m> Entering new GraphCypherQAChain chain...\u001b[0m\n",
            "Generated Cypher:\n",
            "\u001b[32;1m\u001b[1;3mMATCH (m:Movie {title: \"Sudden Death\"})<-[:ACTED_IN]-(p:Person) RETURN p.name \n",
            "\u001b[0m\n",
            "Full Context:\n",
            "\u001b[32;1m\u001b[1;3m[{'p.name': 'Jean-Claude Van Damme'}, {'p.name': 'Powers Boothe'}, {'p.name': 'Raymond J. Barry'}, {'p.name': 'Whittni Wright'}]\u001b[0m\n",
            "\n",
            "\u001b[1m> Finished chain.\u001b[0m\n",
            "{'query': 'List all the actors who acted in the movie Sudden Death', 'result': 'Jean-Claude Van Damme, Powers Boothe, Raymond J. Barry, Whittni Wright  \\n'}\n"
          ]
        }
      ]
    },
    {
      "cell_type": "code",
      "source": [
        "response=chain.invoke({\"query\":\"tell me the genre of the movie GoldenEye\"})\n",
        "\n",
        "response"
      ],
      "metadata": {
        "colab": {
          "base_uri": "https://localhost:8080/"
        },
        "id": "mlipgwFC9WD4",
        "outputId": "d49bad7c-805a-41d7-d3c7-8e9ac5852325"
      },
      "execution_count": null,
      "outputs": [
        {
          "output_type": "stream",
          "name": "stdout",
          "text": [
            "\n",
            "\n",
            "\u001b[1m> Entering new GraphCypherQAChain chain...\u001b[0m\n",
            "Generated Cypher:\n",
            "\u001b[32;1m\u001b[1;3mMATCH (m:Movie {title: \"GoldenEye\"})-[:IN_GENRE]->(g:Genre) RETURN g.name \n",
            "\u001b[0m\n",
            "Full Context:\n",
            "\u001b[32;1m\u001b[1;3m[{'g.name': 'Adventure'}, {'g.name': 'Action'}, {'g.name': 'Thriller'}]\u001b[0m\n",
            "\n",
            "\u001b[1m> Finished chain.\u001b[0m\n"
          ]
        },
        {
          "output_type": "execute_result",
          "data": {
            "text/plain": [
              "{'query': 'tell me the genre of the movie GoldenEye',\n",
              " 'result': 'Adventure, Action, Thriller  \\n'}"
            ]
          },
          "metadata": {},
          "execution_count": 45
        }
      ]
    },
    {
      "cell_type": "code",
      "source": [
        "response=chain.invoke({\"query\":\"Who was the director in movie Casino\"})\n",
        "\n",
        "response"
      ],
      "metadata": {
        "colab": {
          "base_uri": "https://localhost:8080/"
        },
        "id": "Sjfw-Dzp9gN4",
        "outputId": "d2dba89e-414a-4870-e5eb-b25bdf3a0f9e"
      },
      "execution_count": null,
      "outputs": [
        {
          "output_type": "stream",
          "name": "stdout",
          "text": [
            "\n",
            "\n",
            "\u001b[1m> Entering new GraphCypherQAChain chain...\u001b[0m\n",
            "Generated Cypher:\n",
            "\u001b[32;1m\u001b[1;3mMATCH (:Movie {title: \"Casino\"})<-[:DIRECTED]-(p:Person) RETURN p.name \n",
            "\u001b[0m\n",
            "Full Context:\n",
            "\u001b[32;1m\u001b[1;3m[{'p.name': 'Martin Scorsese'}]\u001b[0m\n",
            "\n",
            "\u001b[1m> Finished chain.\u001b[0m\n"
          ]
        },
        {
          "output_type": "execute_result",
          "data": {
            "text/plain": [
              "{'query': 'Who was the director in movie Casino',\n",
              " 'result': 'Martin Scorsese \\n'}"
            ]
          },
          "metadata": {},
          "execution_count": 44
        }
      ]
    },
    {
      "cell_type": "code",
      "source": [
        "response=chain.invoke({\"query\":\"What is the genre of the movie Nixon\"})\n",
        "print(response)"
      ],
      "metadata": {
        "colab": {
          "base_uri": "https://localhost:8080/"
        },
        "id": "ksOQww5J-Dqa",
        "outputId": "6c50c955-c343-4342-94f8-42efed98d839"
      },
      "execution_count": null,
      "outputs": [
        {
          "output_type": "stream",
          "name": "stdout",
          "text": [
            "\n",
            "\n",
            "\u001b[1m> Entering new GraphCypherQAChain chain...\u001b[0m\n",
            "Generated Cypher:\n",
            "\u001b[32;1m\u001b[1;3mMATCH (m:Movie {title: 'Nixon'})-[:IN_GENRE]->(g:Genre) RETURN g.name \n",
            "\u001b[0m\n",
            "Full Context:\n",
            "\u001b[32;1m\u001b[1;3m[{'g.name': 'Drama'}]\u001b[0m\n",
            "\n",
            "\u001b[1m> Finished chain.\u001b[0m\n",
            "{'query': 'What is the genre of the movie Nixon', 'result': 'Drama \\n'}\n"
          ]
        }
      ]
    },
    {
      "cell_type": "code",
      "source": [
        "response=chain.invoke({\"query\":\"Who directed the movie Nixon\"})\n",
        "print(response)"
      ],
      "metadata": {
        "id": "tW1yg3W7epb6",
        "outputId": "71f07218-d421-419c-ab13-cf1768ae98dd",
        "colab": {
          "base_uri": "https://localhost:8080/"
        }
      },
      "execution_count": null,
      "outputs": [
        {
          "output_type": "stream",
          "name": "stdout",
          "text": [
            "\n",
            "\n",
            "\u001b[1m> Entering new GraphCypherQAChain chain...\u001b[0m\n",
            "Generated Cypher:\n",
            "\u001b[32;1m\u001b[1;3mMATCH (m:Movie {title: 'Nixon'})<-[:DIRECTED]-(p:Person) RETURN p.name\u001b[0m\n",
            "Full Context:\n",
            "\u001b[32;1m\u001b[1;3m[{'p.name': 'Oliver Stone'}]\u001b[0m\n",
            "\n",
            "\u001b[1m> Finished chain.\u001b[0m\n",
            "{'query': 'Who directed the movie Nixon', 'result': 'Oliver Stone directed the movie Nixon. \\n'}\n"
          ]
        }
      ]
    },
    {
      "cell_type": "code",
      "source": [
        "response=chain.invoke({\"query\":\"list of all the movies with imdb ratings more than 8\"})\n",
        "print(response)"
      ],
      "metadata": {
        "id": "smxCSNLOfODB",
        "outputId": "f0f3daf6-b972-42af-bb76-69b2fcda0754",
        "colab": {
          "base_uri": "https://localhost:8080/"
        }
      },
      "execution_count": null,
      "outputs": [
        {
          "output_type": "stream",
          "name": "stdout",
          "text": [
            "\n",
            "\n",
            "\u001b[1m> Entering new GraphCypherQAChain chain...\u001b[0m\n",
            "Generated Cypher:\n",
            "\u001b[32;1m\u001b[1;3mMATCH (m:Movie) WHERE m.imdbRating > 8 RETURN m.title\u001b[0m\n",
            "Full Context:\n",
            "\u001b[32;1m\u001b[1;3m[{'m.title': 'Toy Story'}, {'m.title': 'Heat'}, {'m.title': 'Casino'}, {'m.title': 'Twelve Monkeys (a.k.a. 12 Monkeys)'}, {'m.title': 'Seven (a.k.a. Se7en)'}, {'m.title': 'Usual Suspects, The'}, {'m.title': 'Hate (Haine, La)'}, {'m.title': 'Braveheart'}, {'m.title': 'Taxi Driver'}, {'m.title': 'Anne Frank Remembered'}]\u001b[0m\n",
            "\n",
            "\u001b[1m> Finished chain.\u001b[0m\n",
            "{'query': 'list of all the movies with imdb ratings more than 8', 'result': \"I don't know the answer.  \\n\"}\n"
          ]
        }
      ]
    },
    {
      "cell_type": "code",
      "source": [
        "#Sometimes, the answers might not be returned by the llm, but all the possible answers are in the Full Context -\n",
        "\n",
        "response=chain.invoke({\"query\":\"Give me the list of movies acted by Sylvester Stallone\"})\n",
        "response"
      ],
      "metadata": {
        "colab": {
          "base_uri": "https://localhost:8080/"
        },
        "id": "ca614gfG-2ge",
        "outputId": "5581b644-f91f-4ff1-d039-c84289965a31"
      },
      "execution_count": null,
      "outputs": [
        {
          "output_type": "stream",
          "name": "stdout",
          "text": [
            "\n",
            "\n",
            "\u001b[1m> Entering new GraphCypherQAChain chain...\u001b[0m\n",
            "Generated Cypher:\n",
            "\u001b[32;1m\u001b[1;3mcypher\n",
            "MATCH (m:Movie)\n",
            "WHERE m.imdbRating > 8\n",
            "RETURN m.id, m.title\n",
            "\u001b[0m\n",
            "Full Context:\n",
            "\u001b[32;1m\u001b[1;3m[{'m.id': '1', 'm.title': 'Toy Story'}, {'m.id': '6', 'm.title': 'Heat'}, {'m.id': '16', 'm.title': 'Casino'}, {'m.id': '32', 'm.title': 'Twelve Monkeys (a.k.a. 12 Monkeys)'}, {'m.id': '47', 'm.title': 'Seven (a.k.a. Se7en)'}, {'m.id': '50', 'm.title': 'Usual Suspects, The'}, {'m.id': '97', 'm.title': 'Hate (Haine, La)'}, {'m.id': '110', 'm.title': 'Braveheart'}, {'m.id': '111', 'm.title': 'Taxi Driver'}, {'m.id': '116', 'm.title': 'Anne Frank Remembered'}]\u001b[0m\n",
            "\n",
            "\u001b[1m> Finished chain.\u001b[0m\n",
            "{'query': 'Give me the list of movie having imdb rating more than 8', 'result': \"I don't know the answer. \\n\"}\n",
            "\n",
            "\n",
            "\u001b[1m> Entering new GraphCypherQAChain chain...\u001b[0m\n",
            "Generated Cypher:\n",
            "\u001b[32;1m\u001b[1;3mMATCH (p:Person {name: \"Sylvester Stallone\"})-[:ACTED_IN]->(m:Movie) RETURN m.title\u001b[0m\n",
            "Full Context:\n",
            "\u001b[32;1m\u001b[1;3m[{'m.title': 'Assassins'}, {'m.title': 'Judge Dredd'}, {'m.title': 'Specialist, The'}]\u001b[0m\n",
            "\n",
            "\u001b[1m> Finished chain.\u001b[0m\n"
          ]
        },
        {
          "output_type": "execute_result",
          "data": {
            "text/plain": [
              "{'query': 'Give me the list of movies acted by Sylvester Stallone',\n",
              " 'result': 'Assassins, Judge Dredd, Specialist, The \\n'}"
            ]
          },
          "metadata": {},
          "execution_count": 38
        }
      ]
    }
  ]
}